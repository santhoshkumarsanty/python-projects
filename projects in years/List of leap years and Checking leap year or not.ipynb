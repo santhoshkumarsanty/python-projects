{
 "cells": [
  {
   "cell_type": "markdown",
   "metadata": {},
   "source": [
    "# Checking leap year"
   ]
  },
  {
   "cell_type": "code",
   "execution_count": 11,
   "metadata": {},
   "outputs": [
    {
     "name": "stdout",
     "output_type": "stream",
     "text": [
      "2020 is a leap year\n"
     ]
    }
   ],
   "source": [
    "def check_leap_year(y):\n",
    "    if y%4==0:   \n",
    "        if y%100==0:  #checking its a century year or not\n",
    "            if y%400==0:  #if its divisible by 400 its a leap year\n",
    "                print(f\"{y} is a leap year\")\n",
    "            else:\n",
    "                print(f\"{y} is not a leap year\")\n",
    "        else:\n",
    "            print(f\"{y} is a leap year\")\n",
    "    else:\n",
    "        print(f\"{y} is not a leap year\")\n",
    "        \n",
    "check_leap_year(2020)"
   ]
  },
  {
   "cell_type": "markdown",
   "metadata": {},
   "source": [
    "# List of leap years"
   ]
  },
  {
   "cell_type": "code",
   "execution_count": 12,
   "metadata": {},
   "outputs": [
    {
     "name": "stdout",
     "output_type": "stream",
     "text": [
      "1904 is a leap year\n",
      "1908 is a leap year\n",
      "1912 is a leap year\n",
      "1916 is a leap year\n",
      "1920 is a leap year\n",
      "1924 is a leap year\n",
      "1928 is a leap year\n",
      "1932 is a leap year\n",
      "1936 is a leap year\n",
      "1940 is a leap year\n",
      "1944 is a leap year\n",
      "1948 is a leap year\n",
      "1952 is a leap year\n",
      "1956 is a leap year\n",
      "1960 is a leap year\n",
      "1964 is a leap year\n",
      "1968 is a leap year\n",
      "1972 is a leap year\n",
      "1976 is a leap year\n",
      "1980 is a leap year\n",
      "1984 is a leap year\n",
      "1988 is a leap year\n",
      "1992 is a leap year\n",
      "1996 is a leap year\n",
      "2000 is a leap year\n",
      "2004 is a leap year\n",
      "2008 is a leap year\n",
      "2012 is a leap year\n",
      "2016 is a leap year\n",
      "2020 is a leap year\n"
     ]
    }
   ],
   "source": [
    "def leap_years(start,end):\n",
    "    for y in range(start,end+1):\n",
    "        if y%4==0:   \n",
    "            if y%100==0:  #checking its a century year or not\n",
    "                if y%400==0:  #if its divisible by 400 its a leap year\n",
    "                    print(f\"{y} is a leap year\")\n",
    "                \n",
    "            else:\n",
    "                print(f\"{y} is a leap year\")\n",
    "        \n",
    "\n",
    "leap_years(1900,2020)"
   ]
  }
 ],
 "metadata": {
  "kernelspec": {
   "display_name": "Python 3",
   "language": "python",
   "name": "python3"
  },
  "language_info": {
   "codemirror_mode": {
    "name": "ipython",
    "version": 3
   },
   "file_extension": ".py",
   "mimetype": "text/x-python",
   "name": "python",
   "nbconvert_exporter": "python",
   "pygments_lexer": "ipython3",
   "version": "3.8.0"
  }
 },
 "nbformat": 4,
 "nbformat_minor": 4
}
