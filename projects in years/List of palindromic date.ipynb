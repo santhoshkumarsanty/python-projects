{
 "cells": [
  {
   "cell_type": "markdown",
   "metadata": {},
   "source": [
    "# List of palindromic date"
   ]
  },
  {
   "cell_type": "code",
   "execution_count": 3,
   "metadata": {},
   "outputs": [
    {
     "name": "stdout",
     "output_type": "stream",
     "text": [
      "10/02/2001 is a palindromic date.\n",
      "20/02/2002 is a palindromic date.\n",
      "01/02/2010 is a palindromic date.\n",
      "11/02/2011 is a palindromic date.\n",
      "21/02/2012 is a palindromic date.\n",
      "02/02/2020 is a palindromic date.\n"
     ]
    }
   ],
   "source": [
    "def palindromic_dates(s_year,e_year):\n",
    "    for year in range(s_year,e_year+1): \n",
    "        for month in range(1,13): #month \n",
    "            max_date = max_date_finder(month,year) #getting max date \n",
    "            for date in range(1,max_date+1):\n",
    "                if (date <= max_date) and (month >= 1 or month <= 12):  \n",
    "                    dd = str(date)\n",
    "                    mm = str(month)\n",
    "                    yy = str(year)\n",
    "                    if date < 10: #adding 0 before the date if its less then 10(because integer delete the 0)\n",
    "                        dd = \"0\" + dd\n",
    "                    if month < 10:\n",
    "                        mm = \"0\" + mm\n",
    "                    check = dd + mm + yy\n",
    "                    reverse = check[::-1]  #reverse the date \n",
    "                    if check == reverse:  #if both are equal\n",
    "                        print(f\"{dd}/{mm}/{yy} is a palindromic date.\")\n",
    "                        \n",
    "                        \n",
    "def max_date_finder(month,year):\n",
    "    if month==1 or month==3 or month==5 or month==7 or month == 9 or month==11:\n",
    "        max_day = 31\n",
    "\n",
    "    elif month==4 or month==6 or month==8 or month==10 or month==12:\n",
    "        max_day = 30\n",
    "\n",
    "    elif year%4==0 and year%100!=0 or year%400==0:\n",
    "        max_day=29\n",
    "\n",
    "    else:\n",
    "        max_day = 28\n",
    "\n",
    "    return max_day\n",
    "\n",
    "palindromic_dates(1800,2020)"
   ]
  }
 ],
 "metadata": {
  "kernelspec": {
   "display_name": "Python 3 (ipykernel)",
   "language": "python",
   "name": "python3"
  },
  "language_info": {
   "codemirror_mode": {
    "name": "ipython",
    "version": 3
   },
   "file_extension": ".py",
   "mimetype": "text/x-python",
   "name": "python",
   "nbconvert_exporter": "python",
   "pygments_lexer": "ipython3",
   "version": "3.9.6"
  }
 },
 "nbformat": 4,
 "nbformat_minor": 4
}
