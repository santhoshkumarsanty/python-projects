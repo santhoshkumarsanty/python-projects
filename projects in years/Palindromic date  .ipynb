{
 "cells": [
  {
   "cell_type": "markdown",
   "metadata": {},
   "source": [
    "# Palindromic date \n",
    "\n",
    "Below function will check first its palindromic date or not,\n",
    "if its not it will print the next palindromic date.\n"
   ]
  },
  {
   "cell_type": "code",
   "execution_count": 5,
   "metadata": {},
   "outputs": [
    {
     "name": "stdout",
     "output_type": "stream",
     "text": [
      "21/02/2012 is a palindromic date\n",
      "10/02/2001 is a next palindromic date\n"
     ]
    }
   ],
   "source": [
    "def palindromic_date(date,month,year):\n",
    "    count =0  #this variable used to if given date is not palindrome print the next palindrome date\n",
    "    while True:\n",
    "        max_date = max_date_finder(month, year)  #Getting the max date for month\n",
    "        if (date <= max_date) and (month>=1 or month<=12): #we need to check its a valid date or not\n",
    "            dd = str(date)  #change to string\n",
    "            mm = str(month)\n",
    "            yy = str(year)\n",
    "            if date < 10:   #adding zero before the date if its less then 10\n",
    "                dd = \"0\" + dd\n",
    "            if month < 10:\n",
    "                mm = \"0\" + mm\n",
    "            check = dd + mm + yy \n",
    "            reverse = check[::-1] #reverse the date   \n",
    "            if check == reverse:\n",
    "                if count == 0:  #if entered date is palindrome\n",
    "                    print(f\"{dd}/{mm}/{yy} is a palindromic date\")\n",
    "                    break  #break the loop\n",
    "\n",
    "                else:  #nxt palindromic date\n",
    "                    print(f\"{dd}/{mm}/{yy} is a next palindromic date\")\n",
    "                    break\n",
    "            else:\n",
    "                count +=1\n",
    "                date += 1  #increament the date\n",
    "                if date > max_date:  \n",
    "                    date = 1\n",
    "                    month +=1\n",
    "                    if month > 12:\n",
    "                        month = 1\n",
    "                        year +=1\n",
    "\n",
    "\n",
    "\n",
    "        else:\n",
    "            print(\"enter a valid date\")\n",
    "\n",
    "def max_date_finder(month,year):\n",
    "    if month==1 or month==3 or month==5 or month==7 or month == 9 or month==11:\n",
    "        max_day = 31\n",
    "\n",
    "    elif month==4 or month==6 or month==8 or month==10 or month==12:\n",
    "        max_day = 30\n",
    "\n",
    "    elif year%4==0 and year%100!=0 or year%400==0:\n",
    "        max_day=29\n",
    "\n",
    "    else:\n",
    "        max_day = 28\n",
    "\n",
    "    return max_day\n",
    "           \n",
    "\n",
    "\n",
    "palindromic_date(21,2,2012)\n",
    "palindromic_date(22,2,1999)"
   ]
  },
  {
   "cell_type": "code",
   "execution_count": null,
   "metadata": {},
   "outputs": [],
   "source": []
  }
 ],
 "metadata": {
  "kernelspec": {
   "display_name": "Python 3 (ipykernel)",
   "language": "python",
   "name": "python3"
  },
  "language_info": {
   "codemirror_mode": {
    "name": "ipython",
    "version": 3
   },
   "file_extension": ".py",
   "mimetype": "text/x-python",
   "name": "python",
   "nbconvert_exporter": "python",
   "pygments_lexer": "ipython3",
   "version": "3.9.6"
  }
 },
 "nbformat": 4,
 "nbformat_minor": 4
}
