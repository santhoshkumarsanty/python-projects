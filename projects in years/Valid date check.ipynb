{
 "cells": [
  {
   "cell_type": "markdown",
   "metadata": {},
   "source": [
    "# Valid date checker"
   ]
  },
  {
   "cell_type": "code",
   "execution_count": 5,
   "metadata": {},
   "outputs": [
    {
     "name": "stdout",
     "output_type": "stream",
     "text": [
      "This date is not valid\n"
     ]
    }
   ],
   "source": [
    "def valid_date(date,month,year):  #get the input\n",
    "    if month==1 or month==3 or month==5 or month==7 or month == 9 or month==11:\n",
    "        max_day = 31     \n",
    "\n",
    "    elif month==4 or month==6 or month==8 or month==10 or month==12:\n",
    "        max_day = 30\n",
    "\n",
    "    elif year%4==0 and year%100!=0 or year%400==0:  #if its leap year\n",
    "        max_day=29\n",
    "\n",
    "    else:    #if its not a leap year\n",
    "        max_day = 28\n",
    "\n",
    "    if month<1 or month>12:   #codition for month\n",
    "        print(\"This date is not valid\")\n",
    "\n",
    "    elif date<1 or date>max_day:\n",
    "        print(\"This date is not valid\")\n",
    "\n",
    "    elif year<1700 or year>2020:  #we can give conditon for year\n",
    "        print(\"This date is not valid\")\n",
    "    else:\n",
    "        print(f\"This date is valid\")\n",
    "        \n",
    "valid_date(30,2,2020)"
   ]
  }
 ],
 "metadata": {
  "kernelspec": {
   "display_name": "Python 3",
   "language": "python",
   "name": "python3"
  },
  "language_info": {
   "codemirror_mode": {
    "name": "ipython",
    "version": 3
   },
   "file_extension": ".py",
   "mimetype": "text/x-python",
   "name": "python",
   "nbconvert_exporter": "python",
   "pygments_lexer": "ipython3",
   "version": "3.8.0"
  }
 },
 "nbformat": 4,
 "nbformat_minor": 4
}
