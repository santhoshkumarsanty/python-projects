{
 "cells": [
  {
   "cell_type": "markdown",
   "id": "9b2d40d2",
   "metadata": {},
   "source": [
    "# ATM SYSTEM"
   ]
  },
  {
   "cell_type": "code",
   "execution_count": 1,
   "id": "4bad3e55",
   "metadata": {},
   "outputs": [
    {
     "name": "stdout",
     "output_type": "stream",
     "text": [
      "welcome to SBI\n",
      "Enter the four digit pin number :2442\n",
      "HELLO SANTHOSH KUMAR\n",
      "if you want deposit press :D   \n",
      "        and if you want to withdraw press :W    \n",
      "        if you want to check balance enter: B  D\n",
      "Enter the amount to deposit:\n",
      "None5000\n",
      "your balance : 15000\n",
      "5000 RS deposite in your account\n",
      "would you like to continiue ? y/ny\n",
      "Enter the four digit pin number :2442\n",
      "HELLO SANTHOSH KUMAR\n",
      "if you want deposit press :D   \n",
      "        and if you want to withdraw press :W    \n",
      "        if you want to check balance enter: B  W\n",
      "Enter the amount want to withdraw :\n",
      "None50000\n",
      "Sorry you dont have enough balance\n",
      "would you like to continiue ? y/nn\n",
      "thaks for visit SBI atm\n"
     ]
    }
   ],
   "source": [
    "print('welcome to SBI')\n",
    "trail=3\n",
    "userpin = 2442\n",
    "balance=10000\n",
    "while trail !=0:\n",
    "    pin = int(input(('Enter the four digit pin number :')))\n",
    "    if pin != userpin:\n",
    "        trail-=1\n",
    "        print('Wrong pin number,you have',trail,'trail left')\n",
    "    else:\n",
    "        print('HELLO SANTHOSH KUMAR')\n",
    "        userchoice=input('''if you want deposit press :D   \n",
    "        and if you want to withdraw press :W    \n",
    "        if you want to check balance enter: B  ''')\n",
    "        if userchoice == 'D':\n",
    "            deposit =int(input(print('Enter the amount to deposit:')))\n",
    "            balance=balance+deposit\n",
    "            print('your balance :',balance)\n",
    "            print(deposit,'RS deposite in your account')\n",
    "        elif userchoice== 'W':\n",
    "             withdraw = int(input(print('Enter the amount want to withdraw :')))\n",
    "             if withdraw <= balance:\n",
    "                print(withdraw,'RS withdraw from your account')\n",
    "                print('Please collect your cash')\n",
    "                balance=balance-withdraw\n",
    "                print('your balance :',balance)\n",
    "             else:\n",
    "                 print(\"Sorry you dont have enough balance\")\n",
    "\n",
    "        elif userchoice== 'B':\n",
    "            print('your balance:',balance)\n",
    "\n",
    "    userexit=input('would you like to continiue ? y/n')\n",
    "    if userexit == 'n':\n",
    "        print('thaks for visit SBI atm')\n",
    "        break\n",
    "    else:\n",
    "        continue"
   ]
  },
  {
   "cell_type": "code",
   "execution_count": null,
   "id": "b225f154",
   "metadata": {},
   "outputs": [],
   "source": []
  }
 ],
 "metadata": {
  "kernelspec": {
   "display_name": "Python 3 (ipykernel)",
   "language": "python",
   "name": "python3"
  },
  "language_info": {
   "codemirror_mode": {
    "name": "ipython",
    "version": 3
   },
   "file_extension": ".py",
   "mimetype": "text/x-python",
   "name": "python",
   "nbconvert_exporter": "python",
   "pygments_lexer": "ipython3",
   "version": "3.9.6"
  }
 },
 "nbformat": 4,
 "nbformat_minor": 5
}
